{
  "nbformat": 4,
  "nbformat_minor": 0,
  "metadata": {
    "colab": {
      "provenance": [],
      "authorship_tag": "ABX9TyMMJ2dEELNKjgC9MWSYxltD",
      "include_colab_link": true
    },
    "kernelspec": {
      "name": "python3",
      "display_name": "Python 3"
    },
    "language_info": {
      "name": "python"
    }
  },
  "cells": [
    {
      "cell_type": "markdown",
      "metadata": {
        "id": "view-in-github",
        "colab_type": "text"
      },
      "source": [
        "<a href=\"https://colab.research.google.com/github/tamagoyakitamagoyaki/q-macro/blob/main/assignment.ipynb\" target=\"_parent\"><img src=\"https://colab.research.google.com/assets/colab-badge.svg\" alt=\"Open In Colab\"/></a>"
      ]
    },
    {
      "cell_type": "code",
      "execution_count": 1,
      "metadata": {
        "id": "mXhIRxHjMTMM"
      },
      "outputs": [],
      "source": [
        "import pandas as pd\n",
        "import pandas_datareader.data as web\n",
        "import matplotlib.pyplot as plt\n",
        "import statsmodels.api as sm\n",
        "import pandas_datareader as pdr\n",
        "import numpy as np"
      ]
    },
    {
      "cell_type": "code",
      "source": [
        "start_date = '1960-01-01'\n",
        "end_date = '2022-01-01'"
      ],
      "metadata": {
        "id": "EbN51B1QMYh_"
      },
      "execution_count": 2,
      "outputs": []
    },
    {
      "cell_type": "code",
      "source": [
        "gdp_sing = web.DataReader('RGDPNASGA666NRUG', 'fred', start_date, end_date)\n",
        "gdp_jp = web.DataReader('JPNRGDPEXP', 'fred', start_date, end_date)"
      ],
      "metadata": {
        "id": "kO-cyHuTOtQC"
      },
      "execution_count": 3,
      "outputs": []
    },
    {
      "cell_type": "code",
      "source": [
        "log_gdp_sing = np.log(gdp_sing)\n",
        "log_gdp_jp = np.log(gdp_jp)"
      ],
      "metadata": {
        "id": "_KHTk5x8Paqy"
      },
      "execution_count": 4,
      "outputs": []
    },
    {
      "cell_type": "code",
      "source": [
        "gdp_pct_change_sing = gdp_sing.pct_change(4)\n",
        "gdp_pct_change_jp = gdp_jp.pct_change(4)"
      ],
      "metadata": {
        "id": "Rg965xm0PzCF"
      },
      "execution_count": 5,
      "outputs": []
    },
    {
      "cell_type": "code",
      "source": [
        "cycle_sing, trend_sing = sm.tsa.filters.hpfilter(log_gdp_sing, lamb=1600)\n",
        "cycle_jp, trend_jp = sm.tsa.filters.hpfilter(log_gdp_jp, lamb=1600)"
      ],
      "metadata": {
        "id": "ceYEt534QEZk"
      },
      "execution_count": 6,
      "outputs": []
    },
    {
      "cell_type": "code",
      "source": [],
      "metadata": {
        "id": "m-nyeGO6QUwM"
      },
      "execution_count": null,
      "outputs": []
    }
  ]
}