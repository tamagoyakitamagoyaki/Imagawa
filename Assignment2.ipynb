{
  "nbformat": 4,
  "nbformat_minor": 0,
  "metadata": {
    "colab": {
      "provenance": [],
      "authorship_tag": "ABX9TyOEgIMJNf/La+LsjM5Q6V9z",
      "include_colab_link": true
    },
    "kernelspec": {
      "name": "python3",
      "display_name": "Python 3"
    },
    "language_info": {
      "name": "python"
    }
  },
  "cells": [
    {
      "cell_type": "markdown",
      "metadata": {
        "id": "view-in-github",
        "colab_type": "text"
      },
      "source": [
        "<a href=\"https://colab.research.google.com/github/tamagoyakitamagoyaki/q-macro/blob/main/Assignment2.ipynb\" target=\"_parent\"><img src=\"https://colab.research.google.com/assets/colab-badge.svg\" alt=\"Open In Colab\"/></a>"
      ]
    },
    {
      "cell_type": "code",
      "execution_count": 16,
      "metadata": {
        "id": "lWUFk0yLceqs"
      },
      "outputs": [],
      "source": [
        "import pandas as pd\n",
        "import matplotlib.pyplot as plt"
      ]
    },
    {
      "cell_type": "code",
      "source": [
        "pwt1001 = pd.read_stata('https://dataverse.nl/api/access/datafile/354098')"
      ],
      "metadata": {
        "id": "vT2f1Ffyqv8H"
      },
      "execution_count": 17,
      "outputs": []
    },
    {
      "cell_type": "code",
      "source": [
        "data = pwt1001.loc[pwt1001['country'].isin(['Australia', 'Austria', 'Belgium', 'Canada', 'Denmark', 'Finland', 'France', 'Germany', 'Greece', 'Iceland', 'Ireland', 'Italy', 'Japan', 'Netherlands', 'New Zealand', 'Norway', 'Portugal', 'Spain', 'Sweden', 'Switzerland', 'United Kingdom', 'United States'])][['year', 'countrycode', 'country', 'rgdpna', 'rnna', 'emp', 'avh', 'labsh', 'hc', 'rtfpna']]\n",
        "data = data.loc[(data['year'] >= 1975) & (data['year'] <= 2019)].dropna()"
      ],
      "metadata": {
        "id": "GYZw2PPbxNF5"
      },
      "execution_count": 23,
      "outputs": []
    },
    {
      "cell_type": "code",
      "source": [
        "data['alpha'] = 1 - data['labsh']\n",
        "data['gdp_per_worker'] = data['rgdpna'] / data['emp']\n",
        "data['capital_per_worker'] = data['rnna'] / data['emp']\n",
        "data['human_capital_per_worker'] = data['hc']\n",
        "data['hours_per_worker'] = data['avh']"
      ],
      "metadata": {
        "id": "giT4J9_I0YlL"
      },
      "execution_count": 24,
      "outputs": []
    },
    {
      "cell_type": "code",
      "source": [
        "countries = ['Australia', 'Austria', 'Belgium', 'Canada', 'Denmark', 'Finland', 'France', 'Germany', 'Greece', 'Iceland', 'Ireland', 'Italy', 'Japan', 'Netherlands', 'New Zealand', 'Norway', 'Portugal', 'Spain', 'Sweden', 'Switzerland', 'United Kingdom', 'United States']"
      ],
      "metadata": {
        "id": "1txWsuNF4Eyj"
      },
      "execution_count": 25,
      "outputs": []
    },
    {
      "cell_type": "code",
      "source": [
        "def calculate_average_growth_rate(data, start_year, end_year, column):\n",
        "    start_value = data.loc[data['year'] == start_year, column].iloc[0]\n",
        "    end_value = data.loc[data['year'] == end_year, column].iloc[0]\n",
        "    years = end_value - start_value\n",
        "    avg_growth_rate = (end_value / start_value) ** (1 / years) - 1\n",
        "    return avg_growth_rate"
      ],
      "metadata": {
        "id": "tIqD0jc28pEd"
      },
      "execution_count": 28,
      "outputs": []
    },
    {
      "cell_type": "code",
      "source": [
        "results = []\n",
        "for country in countries:\n",
        "    country_data = data[data['country'] == country]\n",
        "    alpha = country_data['alpha'].mean()\n",
        "    gdp_growth = calculate_average_growth_rate(country_data, 1975, 2019, 'gdp_per_worker')\n",
        "    capital_deepening = calculate_average_growth_rate(country_data, 1975, 2019, 'capital_per_worker')\n",
        "    hc_growth = calculate_average_growth_rate(country_data, 1975, 2019, 'human_capital_per_worker')\n",
        "    hours_growth = calculate_average_growth_rate(country_data, 1975, 2019, 'hours_per_worker')\n",
        "    labor_growth = (1 - alpha) * (hc_growth + hours_growth)\n",
        "    tfp_growth = gdp_growth - capital_deepening - labor_growth\n",
        "    tfp_share = tfp_growth / gdp_growth\n",
        "    capital_share = capital_deepening / gdp_growth\n",
        "    labor_share = labor_growth / gdp_growth\n",
        "    results.append({\n",
        "        'Country': country,\n",
        "        'Growth Rate': gdp_growth,\n",
        "        'TFP Growth': tfp_growth,\n",
        "        'Capital Deepening': capital_deepening,\n",
        "        'Labor Growth': labor_growth,\n",
        "        'TFP Share': tfp_share,\n",
        "        'Capital Share': capital_share,\n",
        "        'Labor Share': labor_share\n",
        "     })\n"
      ],
      "metadata": {
        "id": "2jc9x8Kv3eXi"
      },
      "execution_count": 34,
      "outputs": []
    },
    {
      "cell_type": "code",
      "source": [
        "growth_accounting_table = pd.DataFrame(results)\n",
        "\n",
        "average_values = {\n",
        "    'Country': 'Average',\n",
        "    'Growth Rate': growth_accounting_table['Growth Rate'].mean(),\n",
        "    'TFP Growth': growth_accounting_table['TFP Growth'].mean(),\n",
        "    'Capital Deepening': growth_accounting_table['Capital Deepening'].mean(),\n",
        "    'Labor Growth': growth_accounting_table['Labor Growth'].mean(),\n",
        "    'TFP Share': growth_accounting_table['TFP Share'].mean(),\n",
        "    'Capital Share': growth_accounting_table['Capital Share'].mean(),\n",
        "    'Labor Share': growth_accounting_table['Labor Share'].mean()\n",
        "}"
      ],
      "metadata": {
        "id": "J8pDon8d-0MD"
      },
      "execution_count": 37,
      "outputs": []
    },
    {
      "cell_type": "code",
      "source": [
        "average_value_df = pd.DataFrame([average_values])\n",
        "growth_accounting_table = pd.concat([growth_accounting_table,average_value_df], ignore_index=True)\n",
        "print(growth_accounting_table.to_string(index=False, float_format='{:.2%}'.format))"
      ],
      "metadata": {
        "colab": {
          "base_uri": "https://localhost:8080/"
        },
        "id": "fCGomGxYAW37",
        "outputId": "293b09b4-34a3-4877-f388-5845b9b3b4e8"
      },
      "execution_count": 40,
      "outputs": [
        {
          "output_type": "stream",
          "name": "stdout",
          "text": [
            "       Country  Growth Rate  TFP Growth  Capital Deepening  Labor Growth    TFP Share  Capital Share  Labor Share\n",
            "     Australia        0.00%     -21.77%              0.00%        21.78% -1735713.67%         22.10%  1735791.57%\n",
            "       Austria        0.00%     -23.74%              0.00%        23.74% -1840633.16%         20.05%  1840713.11%\n",
            "       Belgium        0.00%     -27.05%              0.00%        27.05% -2200272.21%         18.84%  2200353.37%\n",
            "        Canada        0.00%     -23.70%              0.00%        23.70% -1890850.33%         25.64%  1890924.69%\n",
            "       Denmark        0.00%     -23.38%              0.00%        23.39% -1795661.79%         21.78%  1795740.01%\n",
            "       Finland        0.00%     -24.37%              0.00%        24.37% -1539997.81%         20.86%  1540076.95%\n",
            "        France        0.00%     -27.04%              0.00%        27.04% -2117121.18%         18.38%  2117202.80%\n",
            "       Germany        0.00%     -22.57%              0.00%        22.57% -1603597.74%         22.81%  1603674.93%\n",
            "        Greece        0.00%     -23.57%              0.00%        23.58% -1380634.89%         14.84%  1380720.05%\n",
            "       Iceland        0.00%     -27.13%              0.00%        27.13% -1710831.34%         17.40%  1710913.94%\n",
            "       Ireland        0.00%     -21.29%              0.00%        21.29% -2401579.83%         26.01%  2401653.81%\n",
            "         Italy        0.00%     -25.13%              0.00%        25.13% -1964127.99%         16.87%  1964211.12%\n",
            "         Japan        0.00%     -21.25%              0.00%        21.25% -1101486.93%         24.10%  1101562.83%\n",
            "   Netherlands        0.00%     -24.92%              0.00%        24.93% -2044676.71%         21.57%  2044755.14%\n",
            "   New Zealand        0.00%     -20.15%              0.00%        20.15% -1275060.39%         36.56%  1275123.83%\n",
            "        Norway        0.00%     -19.16%              0.00%        19.16% -1871971.77%         24.65%  1872047.11%\n",
            "      Portugal        0.00%     -42.18%              0.00%        42.18% -2040100.43%         14.45%  2040185.98%\n",
            "         Spain        0.00%     -29.72%              0.00%        29.72% -2113289.69%         19.22%  2113370.47%\n",
            "        Sweden        0.00%     -21.26%              0.00%        21.26% -1621836.63%         21.17%  1621915.46%\n",
            "   Switzerland        0.00%     -22.77%              0.00%        22.77% -2520841.15%         25.76%  2520915.39%\n",
            "United Kingdom        0.00%     -20.35%              0.00%        20.35% -1342697.84%         21.72%  1342776.12%\n",
            " United States        0.00%     -20.35%              0.00%        20.35% -1937814.76%         27.24%  1937887.52%\n",
            "       Average        0.00%     -24.22%              0.00%        24.22% -1820490.83%         21.91%  1820568.92%\n",
            "       Average        0.00%     -24.22%              0.00%        24.22% -1820490.83%         21.91%  1820568.92%\n"
          ]
        }
      ]
    }
  ]
}